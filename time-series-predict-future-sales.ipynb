{
 "cells": [
  {
   "cell_type": "code",
   "execution_count": null,
   "metadata": {
    "_cell_guid": "b1076dfc-b9ad-4769-8c92-a6c4dae69d19",
    "_uuid": "8f2839f25d086af736a60e9eeb907d3b93b6e0e5",
    "execution": {
     "iopub.execute_input": "2022-03-07T14:55:31.232464Z",
     "iopub.status.busy": "2022-03-07T14:55:31.232019Z",
     "iopub.status.idle": "2022-03-07T14:55:31.243131Z",
     "shell.execute_reply": "2022-03-07T14:55:31.242052Z",
     "shell.execute_reply.started": "2022-03-07T14:55:31.232429Z"
    }
   },
   "outputs": [],
   "source": [
    "\n",
    "import numpy as np # linear algebra\n",
    "import pandas as pd # data processing, CSV file I/O (e.g. pd.read_csv)\n",
    "\n",
    "# Input data files are available in the read-only \"../input/\" directory\n",
    "# For example, running this (by clicking run or pressing Shift+Enter) will list all files under the input directory\n",
    "\n",
    "import os\n",
    "for dirname, _, filenames in os.walk('/kaggle/input'):\n",
    "    for filename in filenames:\n",
    "        print(os.path.join(dirname, filename))\n",
    "\n",
    "# You can write up to 20GB to the current directory (/kaggle/working/) that gets preserved as output when you create a version using \"Save & Run All\" \n",
    "# You can also write temporary files to /kaggle/temp/, but they won't be saved outside of the current session"
   ]
  },
  {
   "cell_type": "code",
   "execution_count": null,
   "metadata": {
    "execution": {
     "iopub.execute_input": "2022-03-07T14:55:31.810279Z",
     "iopub.status.busy": "2022-03-07T14:55:31.809461Z",
     "iopub.status.idle": "2022-03-07T14:55:41.73185Z",
     "shell.execute_reply": "2022-03-07T14:55:41.731011Z",
     "shell.execute_reply.started": "2022-03-07T14:55:31.810237Z"
    }
   },
   "outputs": [],
   "source": [
    "!pip install pmdarima"
   ]
  },
  {
   "cell_type": "code",
   "execution_count": null,
   "metadata": {
    "execution": {
     "iopub.execute_input": "2022-03-07T14:55:41.734085Z",
     "iopub.status.busy": "2022-03-07T14:55:41.733828Z",
     "iopub.status.idle": "2022-03-07T14:55:43.674289Z",
     "shell.execute_reply": "2022-03-07T14:55:43.671916Z",
     "shell.execute_reply.started": "2022-03-07T14:55:41.734054Z"
    }
   },
   "outputs": [],
   "source": [
    "import datetime\n",
    "import matplotlib.pyplot as plt\n",
    "from statsmodels.tsa.seasonal import seasonal_decompose\n",
    "from statsmodels.tsa.stattools import adfuller\n",
    "from statsmodels.graphics.tsaplots import plot_acf, plot_pacf\n",
    "from statsmodels.tsa.arima_model import ARIMA\n",
    "import pmdarima as pm\n"
   ]
  },
  {
   "cell_type": "code",
   "execution_count": null,
   "metadata": {
    "execution": {
     "iopub.execute_input": "2022-03-07T14:55:43.676028Z",
     "iopub.status.busy": "2022-03-07T14:55:43.675725Z",
     "iopub.status.idle": "2022-03-07T14:55:46.152579Z",
     "shell.execute_reply": "2022-03-07T14:55:46.151431Z",
     "shell.execute_reply.started": "2022-03-07T14:55:43.675996Z"
    }
   },
   "outputs": [],
   "source": [
    "sales = pd.read_csv('../input/competitive-data-science-predict-future-sales/sales_train.csv')\n",
    "test = pd.read_csv('../input/competitive-data-science-predict-future-sales/test.csv')\n",
    "shops = pd.read_csv('../input/competitive-data-science-predict-future-sales/shops.csv')\n",
    "items = pd.read_csv('../input/competitive-data-science-predict-future-sales/items.csv')\n",
    "item_cats = pd.read_csv('../input/competitive-data-science-predict-future-sales/item_categories.csv')\n"
   ]
  },
  {
   "cell_type": "code",
   "execution_count": null,
   "metadata": {
    "execution": {
     "iopub.execute_input": "2022-03-07T14:55:46.154528Z",
     "iopub.status.busy": "2022-03-07T14:55:46.154268Z",
     "iopub.status.idle": "2022-03-07T14:55:46.569754Z",
     "shell.execute_reply": "2022-03-07T14:55:46.568712Z",
     "shell.execute_reply.started": "2022-03-07T14:55:46.154499Z"
    }
   },
   "outputs": [],
   "source": [
    "sales['date'] = pd.to_datetime(sales['date'], dayfirst=True)"
   ]
  },
  {
   "cell_type": "code",
   "execution_count": null,
   "metadata": {
    "execution": {
     "iopub.execute_input": "2022-03-07T14:55:46.573103Z",
     "iopub.status.busy": "2022-03-07T14:55:46.572232Z",
     "iopub.status.idle": "2022-03-07T14:55:48.897887Z",
     "shell.execute_reply": "2022-03-07T14:55:48.896917Z",
     "shell.execute_reply.started": "2022-03-07T14:55:46.573061Z"
    }
   },
   "outputs": [],
   "source": [
    "#one item sold monthly in a unique shope\n",
    "monthly_sales_df = sales.groupby([\"date\",\"date_block_num\",\"shop_id\", \"item_id\"])['date', 'item_price', \"item_cnt_day\"].agg({'date':['min','max'], 'item_price': 'mean', 'item_cnt_day':'sum'})"
   ]
  },
  {
   "cell_type": "code",
   "execution_count": null,
   "metadata": {
    "execution": {
     "iopub.execute_input": "2022-03-07T14:55:57.402408Z",
     "iopub.status.busy": "2022-03-07T14:55:57.402113Z",
     "iopub.status.idle": "2022-03-07T14:55:57.41185Z",
     "shell.execute_reply": "2022-03-07T14:55:57.410794Z",
     "shell.execute_reply.started": "2022-03-07T14:55:57.402373Z"
    }
   },
   "outputs": [],
   "source": [
    "item_sold_per_cat = items.groupby('item_category_id').count()"
   ]
  },
  {
   "cell_type": "code",
   "execution_count": null,
   "metadata": {
    "execution": {
     "iopub.execute_input": "2022-03-07T14:56:00.735132Z",
     "iopub.status.busy": "2022-03-07T14:56:00.734827Z",
     "iopub.status.idle": "2022-03-07T14:56:14.356921Z",
     "shell.execute_reply": "2022-03-07T14:56:14.356205Z",
     "shell.execute_reply.started": "2022-03-07T14:56:00.735099Z"
    }
   },
   "outputs": [],
   "source": [
    "monthly_sales_df.loc[monthly_sales_df.index==(33,59,21427)]"
   ]
  },
  {
   "cell_type": "code",
   "execution_count": null,
   "metadata": {
    "execution": {
     "iopub.execute_input": "2022-03-07T14:56:28.357631Z",
     "iopub.status.busy": "2022-03-07T14:56:28.356872Z",
     "iopub.status.idle": "2022-03-07T14:56:28.514845Z",
     "shell.execute_reply": "2022-03-07T14:56:28.513654Z",
     "shell.execute_reply.started": "2022-03-07T14:56:28.357585Z"
    }
   },
   "outputs": [],
   "source": [
    "item_sold_per_month =sales.groupby([\"date_block_num\"]).sum()"
   ]
  },
  {
   "cell_type": "code",
   "execution_count": null,
   "metadata": {
    "execution": {
     "iopub.execute_input": "2022-03-07T14:56:31.537165Z",
     "iopub.status.busy": "2022-03-07T14:56:31.536863Z",
     "iopub.status.idle": "2022-03-07T14:56:31.943468Z",
     "shell.execute_reply": "2022-03-07T14:56:31.942549Z",
     "shell.execute_reply.started": "2022-03-07T14:56:31.537131Z"
    }
   },
   "outputs": [],
   "source": [
    "plt.figure(figsize=(16,8))\n",
    "data_color_normalized = [x / max(item_sold_per_cat['item_id']) for x in item_sold_per_cat['item_id']]\n",
    "my_cmap = plt.cm.get_cmap('plasma')\n",
    "colors = my_cmap(data_color_normalized)\n",
    "plt.bar(item_sold_per_cat.index, item_sold_per_cat['item_id'], color=colors)\n",
    "plt.title(\"Sold item per category\")\n",
    "plt.xlabel('category_id')\n",
    "plt.ylabel('Total number of item sold per category')"
   ]
  },
  {
   "cell_type": "code",
   "execution_count": null,
   "metadata": {
    "execution": {
     "iopub.execute_input": "2022-03-07T14:56:39.952739Z",
     "iopub.status.busy": "2022-03-07T14:56:39.9523Z",
     "iopub.status.idle": "2022-03-07T14:56:40.208645Z",
     "shell.execute_reply": "2022-03-07T14:56:40.207673Z",
     "shell.execute_reply.started": "2022-03-07T14:56:39.952638Z"
    }
   },
   "outputs": [],
   "source": [
    "plt.figure(figsize=(16,8))\n",
    "plt.plot(item_sold_per_month['item_cnt_day'],'bo-')\n",
    "plt.title(\"Monthly sale of the Company\")\n",
    "plt.xlabel(\"Date Block number\")\n",
    "plt.ylabel(\"Total amount of sale\")"
   ]
  },
  {
   "cell_type": "code",
   "execution_count": null,
   "metadata": {
    "execution": {
     "iopub.execute_input": "2022-03-07T14:56:43.634095Z",
     "iopub.status.busy": "2022-03-07T14:56:43.633816Z",
     "iopub.status.idle": "2022-03-07T14:56:44.122905Z",
     "shell.execute_reply": "2022-03-07T14:56:44.122225Z",
     "shell.execute_reply.started": "2022-03-07T14:56:43.634053Z"
    }
   },
   "outputs": [],
   "source": [
    "result = seasonal_decompose(item_sold_per_month['item_cnt_day'], model='additive', period=12)\n",
    "plt.figure(figsize=(16,8))\n",
    "result.plot()\n",
    "plt.show()"
   ]
  },
  {
   "cell_type": "code",
   "execution_count": null,
   "metadata": {
    "execution": {
     "iopub.execute_input": "2022-03-07T14:56:51.098126Z",
     "iopub.status.busy": "2022-03-07T14:56:51.097102Z",
     "iopub.status.idle": "2022-03-07T14:56:51.569054Z",
     "shell.execute_reply": "2022-03-07T14:56:51.568445Z",
     "shell.execute_reply.started": "2022-03-07T14:56:51.098065Z"
    }
   },
   "outputs": [],
   "source": [
    "result = seasonal_decompose(item_sold_per_month['item_cnt_day'], model='multiplicative', period=12)\n",
    "plt.figure(figsize=(16,8))\n",
    "result.plot()\n",
    "plt.show()"
   ]
  },
  {
   "cell_type": "markdown",
   "metadata": {},
   "source": [
    "## Check for stationary\n",
    "Apparently, the data set is not stationary, because it has trend and seasonality.\n",
    "There are many ways to find out if the time series is stationary or not.\n",
    "1. Look at plots: by reviewing a time series plot if there is any trend or seanonality.\n",
    "2. Summary statistics: checking the mean and variance of the time series.\n",
    "3. Statistical tests: it is used to reject the null hypothesis."
   ]
  },
  {
   "cell_type": "code",
   "execution_count": null,
   "metadata": {
    "execution": {
     "iopub.execute_input": "2022-03-07T14:56:55.389393Z",
     "iopub.status.busy": "2022-03-07T14:56:55.388527Z",
     "iopub.status.idle": "2022-03-07T14:56:55.393045Z",
     "shell.execute_reply": "2022-03-07T14:56:55.392265Z",
     "shell.execute_reply.started": "2022-03-07T14:56:55.389337Z"
    }
   },
   "outputs": [],
   "source": [
    "monthly_sales = item_sold_per_month['item_cnt_day'].values"
   ]
  },
  {
   "cell_type": "code",
   "execution_count": null,
   "metadata": {
    "execution": {
     "iopub.execute_input": "2022-03-07T14:56:57.25771Z",
     "iopub.status.busy": "2022-03-07T14:56:57.257423Z",
     "iopub.status.idle": "2022-03-07T14:56:57.273964Z",
     "shell.execute_reply": "2022-03-07T14:56:57.273087Z",
     "shell.execute_reply.started": "2022-03-07T14:56:57.257679Z"
    }
   },
   "outputs": [],
   "source": [
    "item_sold_per_month"
   ]
  },
  {
   "cell_type": "markdown",
   "metadata": {},
   "source": [
    "## Here we split the dataset to different spans and calculate the means of them, if there are not similar, we could conclude a non-stationary dataset"
   ]
  },
  {
   "cell_type": "code",
   "execution_count": null,
   "metadata": {
    "execution": {
     "iopub.execute_input": "2022-03-07T14:57:03.323454Z",
     "iopub.status.busy": "2022-03-07T14:57:03.322729Z",
     "iopub.status.idle": "2022-03-07T14:57:03.331037Z",
     "shell.execute_reply": "2022-03-07T14:57:03.329913Z",
     "shell.execute_reply.started": "2022-03-07T14:57:03.32341Z"
    }
   },
   "outputs": [],
   "source": [
    "split = int(len(monthly_sales)/2)\n",
    "print(split)\n",
    "x1, x2 = monthly_sales[0:split], monthly_sales[split:]\n",
    "mean1, mean2 = x1.mean(), x2.mean()\n",
    "var1, var2 = x1.var(), x2.var()\n",
    "print('mean1=%f, mean2=%f' % (mean1, mean2))\n",
    "print('variance1=%f, variance2=%f', (var1, var2))"
   ]
  },
  {
   "cell_type": "markdown",
   "metadata": {},
   "source": [
    "### obviousely, we have a non-stationary time series. Let's check with the statistical test, here the **augmented dickey-fuller test** is used"
   ]
  },
  {
   "cell_type": "code",
   "execution_count": null,
   "metadata": {
    "execution": {
     "iopub.execute_input": "2022-03-07T14:57:04.589584Z",
     "iopub.status.busy": "2022-03-07T14:57:04.589021Z",
     "iopub.status.idle": "2022-03-07T14:57:04.615543Z",
     "shell.execute_reply": "2022-03-07T14:57:04.614636Z",
     "shell.execute_reply.started": "2022-03-07T14:57:04.589544Z"
    }
   },
   "outputs": [],
   "source": [
    "adfuller_res = adfuller(monthly_sales)\n",
    "print('ADF Statistic: %f' % adfuller_res[0])\n",
    "print('p-value: %f' % adfuller_res[1])\n",
    "print('Critical Values:')\n",
    "for key, value in adfuller_res[4].items():\n",
    "    print('\\t%s: %.3f' % (key, value))"
   ]
  },
  {
   "cell_type": "markdown",
   "metadata": {},
   "source": []
  },
  {
   "cell_type": "markdown",
   "metadata": {},
   "source": [
    "#### ADF statistic test value is -2.4. The more negative this value, the more chance to reject the null hypothesis(the time series is stationary)\n",
    "#### As part of output, we can see the value of -2.4 is bigger than the critical values, then we would have to fail to reject the null hypothesis.\n",
    "### To make the distribution of values more linear and better meet the expectations of the statistic test we'll use log transform"
   ]
  },
  {
   "cell_type": "code",
   "execution_count": null,
   "metadata": {
    "execution": {
     "iopub.execute_input": "2022-03-07T14:57:06.773536Z",
     "iopub.status.busy": "2022-03-07T14:57:06.772967Z",
     "iopub.status.idle": "2022-03-07T14:57:06.789125Z",
     "shell.execute_reply": "2022-03-07T14:57:06.788391Z",
     "shell.execute_reply.started": "2022-03-07T14:57:06.773485Z"
    }
   },
   "outputs": [],
   "source": [
    "monthly_sales_log = np.log(monthly_sales)\n",
    "adfuller_res_log = adfuller(monthly_sales_log)\n",
    "print('ADF Statistic: %f' % adfuller_res_log[0])\n",
    "print('p-value: %f' % adfuller_res_log[1])\n",
    "print('Critical Values:')\n",
    "for key, value in adfuller_res_log[4].items():\n",
    "    print('\\t%s: %.3f' % (key, value))"
   ]
  },
  {
   "cell_type": "markdown",
   "metadata": {},
   "source": [
    "### log transform won't change the time series to a stationary one"
   ]
  },
  {
   "cell_type": "markdown",
   "metadata": {},
   "source": [
    "## Automatic differencing using Panda"
   ]
  },
  {
   "cell_type": "code",
   "execution_count": null,
   "metadata": {
    "execution": {
     "iopub.execute_input": "2022-03-07T14:57:20.082379Z",
     "iopub.status.busy": "2022-03-07T14:57:20.082031Z",
     "iopub.status.idle": "2022-03-07T14:57:20.096952Z",
     "shell.execute_reply": "2022-03-07T14:57:20.096327Z",
     "shell.execute_reply.started": "2022-03-07T14:57:20.082338Z"
    }
   },
   "outputs": [],
   "source": [
    "item_sold_per_month.head()"
   ]
  },
  {
   "cell_type": "code",
   "execution_count": null,
   "metadata": {
    "execution": {
     "iopub.execute_input": "2022-03-07T14:57:30.527364Z",
     "iopub.status.busy": "2022-03-07T14:57:30.526519Z",
     "iopub.status.idle": "2022-03-07T14:57:30.728238Z",
     "shell.execute_reply": "2022-03-07T14:57:30.727337Z",
     "shell.execute_reply.started": "2022-03-07T14:57:30.527287Z"
    }
   },
   "outputs": [],
   "source": [
    "monthly_sales = item_sold_per_month['item_cnt_day']\n",
    "monthly_sales_diff = monthly_sales.diff()\n",
    "plt.plot(monthly_sales_diff)\n",
    "\n"
   ]
  },
  {
   "cell_type": "code",
   "execution_count": null,
   "metadata": {
    "execution": {
     "iopub.execute_input": "2022-03-07T14:57:36.34472Z",
     "iopub.status.busy": "2022-03-07T14:57:36.344425Z",
     "iopub.status.idle": "2022-03-07T14:57:36.3496Z",
     "shell.execute_reply": "2022-03-07T14:57:36.348707Z",
     "shell.execute_reply.started": "2022-03-07T14:57:36.344687Z"
    }
   },
   "outputs": [],
   "source": [
    "monthly_sales_diff = monthly_sales_diff.fillna(monthly_sales.mean())"
   ]
  },
  {
   "cell_type": "code",
   "execution_count": null,
   "metadata": {
    "execution": {
     "iopub.execute_input": "2022-03-07T14:57:41.390298Z",
     "iopub.status.busy": "2022-03-07T14:57:41.390001Z",
     "iopub.status.idle": "2022-03-07T14:57:41.403077Z",
     "shell.execute_reply": "2022-03-07T14:57:41.402415Z",
     "shell.execute_reply.started": "2022-03-07T14:57:41.390264Z"
    }
   },
   "outputs": [],
   "source": [
    "adfuller_res = adfuller(monthly_sales_diff.values)\n",
    "print('ADF Statistic: %f' % adfuller_res[0])\n",
    "print('p-value: %f' % adfuller_res[1])\n",
    "print('Critical Values:')\n",
    "for key, value in adfuller_res[4].items():\n",
    "    print('\\t%s: %.3f' % (key, value))"
   ]
  },
  {
   "cell_type": "markdown",
   "metadata": {},
   "source": [
    "## Here the statistic test value is negtive enough to reject the null hypothesis.\n",
    "## Now after differencing, we can see the statistictest value of -8 is less than the value of -3.6 at 1%"
   ]
  },
  {
   "cell_type": "markdown",
   "metadata": {},
   "source": [
    "# ARIMA Model"
   ]
  },
  {
   "cell_type": "code",
   "execution_count": null,
   "metadata": {
    "execution": {
     "iopub.execute_input": "2022-03-07T14:57:58.478843Z",
     "iopub.status.busy": "2022-03-07T14:57:58.47777Z",
     "iopub.status.idle": "2022-03-07T14:57:59.274308Z",
     "shell.execute_reply": "2022-03-07T14:57:59.273398Z",
     "shell.execute_reply.started": "2022-03-07T14:57:58.4788Z"
    }
   },
   "outputs": [],
   "source": [
    "# Original Series\n",
    "fig, axes = plt.subplots(3, 2, sharex=True, figsize=(10,16))\n",
    "axes[0, 0].plot(monthly_sales); axes[0, 0].set_title('Original Series')\n",
    "plot_acf(monthly_sales, ax=axes[0, 1])\n",
    "\n",
    "# 1st Differencing\n",
    "axes[1, 0].plot(monthly_sales.diff(periods=12)); axes[1, 0].set_title('1st Order Differencing')\n",
    "plot_acf(monthly_sales.diff(periods=12).dropna(), ax=axes[1, 1])\n",
    "\n",
    "# 2nd Differencing\n",
    "axes[2, 0].plot(monthly_sales.diff(periods=12).diff(periods=12)); axes[2, 0].set_title('2nd Order Differencing')\n",
    "plot_acf(monthly_sales.diff(periods=12).diff(periods=12).dropna(), ax=axes[2, 1])\n",
    "\n",
    "plt.show()"
   ]
  },
  {
   "cell_type": "markdown",
   "metadata": {},
   "source": []
  },
  {
   "cell_type": "code",
   "execution_count": null,
   "metadata": {
    "execution": {
     "iopub.execute_input": "2022-03-07T14:58:02.590291Z",
     "iopub.status.busy": "2022-03-07T14:58:02.589398Z",
     "iopub.status.idle": "2022-03-07T14:58:03.454121Z",
     "shell.execute_reply": "2022-03-07T14:58:03.453192Z",
     "shell.execute_reply.started": "2022-03-07T14:58:02.59024Z"
    }
   },
   "outputs": [],
   "source": [
    "from statsmodels.tsa.arima_model import ARIMA\n",
    "import pmdarima as pm\n",
    "\n",
    "\n",
    "model = pm.auto_arima(monthly_sales, start_p=1, start_q=1,\n",
    "                      test='adf',       # use adftest to find optimal 'd'\n",
    "                      max_p=3, max_q=3, # maximum p and q\n",
    "                      m=1,              # frequency of series\n",
    "                      d=None,           # let model determine 'd'\n",
    "                      seasonal=False,   # No Seasonality\n",
    "                      start_P=0, \n",
    "                      D=0, \n",
    "                      trace=True,\n",
    "                      error_action='ignore',  \n",
    "                      suppress_warnings=True, \n",
    "                      stepwise=True)"
   ]
  },
  {
   "cell_type": "code",
   "execution_count": null,
   "metadata": {
    "execution": {
     "iopub.execute_input": "2022-03-07T14:58:05.117172Z",
     "iopub.status.busy": "2022-03-07T14:58:05.116752Z",
     "iopub.status.idle": "2022-03-07T14:58:05.130991Z",
     "shell.execute_reply": "2022-03-07T14:58:05.12993Z",
     "shell.execute_reply.started": "2022-03-07T14:58:05.117123Z"
    }
   },
   "outputs": [],
   "source": [
    "print(model.summary())"
   ]
  },
  {
   "cell_type": "code",
   "execution_count": null,
   "metadata": {
    "execution": {
     "iopub.execute_input": "2022-03-07T14:58:09.31276Z",
     "iopub.status.busy": "2022-03-07T14:58:09.312066Z",
     "iopub.status.idle": "2022-03-07T14:58:13.154459Z",
     "shell.execute_reply": "2022-03-07T14:58:13.153491Z",
     "shell.execute_reply.started": "2022-03-07T14:58:09.312719Z"
    }
   },
   "outputs": [],
   "source": [
    "smodel = pm.auto_arima(monthly_sales, start_p=1, start_q=1,\n",
    "                         test='adf',\n",
    "                         max_p=3, max_q=3, m=12,\n",
    "                         start_P=0, seasonal=True,\n",
    "                         d=None, D=1, trace=True,\n",
    "                         error_action='ignore',  \n",
    "                         suppress_warnings=True, \n",
    "                         stepwise=True)\n",
    "\n",
    "smodel.summary()"
   ]
  },
  {
   "cell_type": "code",
   "execution_count": null,
   "metadata": {
    "execution": {
     "iopub.execute_input": "2022-03-07T15:05:22.020213Z",
     "iopub.status.busy": "2022-03-07T15:05:22.019406Z",
     "iopub.status.idle": "2022-03-07T15:05:22.033381Z",
     "shell.execute_reply": "2022-03-07T15:05:22.032694Z",
     "shell.execute_reply.started": "2022-03-07T15:05:22.020167Z"
    }
   },
   "outputs": [],
   "source": [
    "import numpy as np\n",
    "n_periods = 36\n",
    "fitted, confint = smodel.predict(n_periods=n_periods, return_conf_int=True)\n",
    "# index_of_fc = item_sold_per_month['date'].values\n",
    "# index_of_fc = pd.date_range(monthly_sales.index[-1], periods = n_periods, freq='MS')"
   ]
  },
  {
   "cell_type": "code",
   "execution_count": null,
   "metadata": {
    "execution": {
     "iopub.execute_input": "2022-03-07T15:05:39.041206Z",
     "iopub.status.busy": "2022-03-07T15:05:39.040935Z",
     "iopub.status.idle": "2022-03-07T15:05:39.046744Z",
     "shell.execute_reply": "2022-03-07T15:05:39.046153Z",
     "shell.execute_reply.started": "2022-03-07T15:05:39.041178Z"
    }
   },
   "outputs": [],
   "source": [
    "index_of_fc = np.array(range(n_periods), dtype='int64')\n",
    "index_of_fc"
   ]
  },
  {
   "cell_type": "code",
   "execution_count": null,
   "metadata": {
    "execution": {
     "iopub.execute_input": "2022-03-07T15:07:37.078282Z",
     "iopub.status.busy": "2022-03-07T15:07:37.078007Z",
     "iopub.status.idle": "2022-03-07T15:07:37.267525Z",
     "shell.execute_reply": "2022-03-07T15:07:37.266678Z",
     "shell.execute_reply.started": "2022-03-07T15:07:37.078247Z"
    }
   },
   "outputs": [],
   "source": [
    "# make series for plotting purpose\n",
    "fitted_series = pd.Series(fitted, index=index_of_fc)\n",
    "lower_series = pd.Series(confint[:, 0], index=index_of_fc)\n",
    "upper_series = pd.Series(confint[:, 1], index=index_of_fc)\n",
    "\n",
    "# Plot\n",
    "plt.figure(figsize=(8,4))\n",
    "plt.plot(monthly_sales)\n",
    "plt.plot(fitted_series, color='darkgreen')\n",
    "plt.fill_between(lower_series.index, \n",
    "                 lower_series, \n",
    "                 upper_series, \n",
    "                 color='k', alpha=.15)\n",
    "\n",
    "plt.title(\"SARIMA - Final Forecast\")\n",
    "plt.show()"
   ]
  }
 ],
 "metadata": {
  "kernelspec": {
   "display_name": "Python 3",
   "language": "python",
   "name": "python3"
  },
  "language_info": {
   "codemirror_mode": {
    "name": "ipython",
    "version": 3
   },
   "file_extension": ".py",
   "mimetype": "text/x-python",
   "name": "python",
   "nbconvert_exporter": "python",
   "pygments_lexer": "ipython3",
   "version": "3.8.8"
  }
 },
 "nbformat": 4,
 "nbformat_minor": 4
}
